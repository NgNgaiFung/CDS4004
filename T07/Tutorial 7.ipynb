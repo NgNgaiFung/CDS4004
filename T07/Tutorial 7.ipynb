{
 "cells": [
  {
   "cell_type": "markdown",
   "id": "fe321433",
   "metadata": {},
   "source": [
    "## CDS4004 Tutorial 7\n",
    "### Network Measures"
   ]
  },
  {
   "cell_type": "markdown",
   "id": "ddeb5ee8",
   "metadata": {},
   "source": [
    "<div class=\"alert alert-info\">\n",
    "    \n",
    "Your name: Ng Ngai Fung\n",
    "\n",
    "Your student ID: 4112150\n",
    "    \n",
    "</div>"
   ]
  },
  {
   "cell_type": "markdown",
   "id": "d6ef29c7",
   "metadata": {},
   "source": [
    "This tutorial require the configuration below. (networkx with version 3.0 or above and scipy with version 1.8 or above)"
   ]
  },
  {
   "cell_type": "code",
   "execution_count": 1,
   "id": "80756839",
   "metadata": {},
   "outputs": [],
   "source": [
    "# !pip install 'networkx==3.0'\n",
    "# !pip install 'scipy==1.8'"
   ]
  },
  {
   "cell_type": "markdown",
   "id": "bb6a1a72",
   "metadata": {},
   "source": [
    "Before we start, we can execute the cell below to load the libraries/modules that we need to use in this tutorial."
   ]
  },
  {
   "cell_type": "code",
   "execution_count": 2,
   "id": "2c0ef529",
   "metadata": {},
   "outputs": [],
   "source": [
    "import networkx as nx\n",
    "import warnings\n",
    "import matplotlib.pyplot as plt\n",
    "import numpy as np\n",
    "warnings.filterwarnings('ignore')"
   ]
  },
  {
   "cell_type": "markdown",
   "id": "fea83339",
   "metadata": {},
   "source": [
    "### Part 1 - Create a ER (random) graph"
   ]
  },
  {
   "cell_type": "markdown",
   "id": "1e298739",
   "metadata": {},
   "source": [
    "#### In this tutorial, we will make use of ``fast_gnp_random_graph()`` to generate a random graph/network.\n",
    "\n",
    "Function header: ``fast_gnp_random_graph(n, p, seed=None, directed=False)``\n",
    "\n",
    "Parameters:\n",
    "- n: (int), the number of nodes.\n",
    "- p: (float), probability for edge creation.\n",
    "- seed: (integer), Indicator of random number generation state. See Randomness.\n",
    "- directed: (bool) default is equal to false. Indicate whether this is directed graph (If True)\n",
    "\n",
    "Note that: The G<sub>n,p</sub> graph algorithm chooses each of the [n(n-1)]/2 (undirected) or n(n-1) (directed) possible edges with probability p. This algorithm runs in O(n+m) time, where m is the expected number of edges, which equals p(n(n-1)/2). This should be faster than gnp_random_graph() when p is small and the expected number of edges is small."
   ]
  },
  {
   "cell_type": "markdown",
   "id": "cb701f6b",
   "metadata": {},
   "source": [
    "#### The second function that we need to learn is ``spring_layout()``\n",
    "\n",
    "The layout of the nodes and edges is automatically determined by the Fruchterman-Reingold force-directed algorithm (called “spring layout” in NetworkX), which conducts a pseudo-physics simulation of the movements of the nodes, assuming that each edge is a spring with a fixed equilibrium distance. This heuristic algorithm tends to bring groups of well-connected nodes closer to each other, making the result of visualization more meaningful and aesthetically more pleasing."
   ]
  },
  {
   "cell_type": "markdown",
   "id": "93e9c37c",
   "metadata": {},
   "source": [
    "Function header: ``spring_layout(G, k=None, pos=None, fixed=None, iterations=50, threshold=0.0001, weight='weight', scale=1, center=None, dim=2, seed=None)``\n",
    "\n",
    "Parameters:\n",
    "- G: NetworkX graph or list of nodes\n",
    "    - A position will be assigned to every node in G. \n",
    "    \n",
    "- k: (float) (default=None)\n",
    "    - Optimal distance between nodes. If None the distance is set to 1/sqrt(n) where n is the number of nodes. \n",
    "    - Increase this value to move nodes farther apart.\n",
    "    \n",
    "- pos: (dict) or None optional (default=None)\n",
    "    - Initial positions for nodes as a dictionary with node as keys and values as a coordinate list or tuple. If None, then use random initial positions.\n",
    "    \n",
    "- fixed (list) or None optional (default=None)\n",
    "    - Nodes to keep fixed at initial position. Nodes not in G.nodes are ignored. ValueError raised if fixed specified and pos not.\n",
    "    \n",
    "- iterations (int) optional (default=50)\n",
    "    - Maximum number of iterations taken\n",
    "\n",
    "- threshold: (float) optional (default = 1e-4)\n",
    "    - Threshold for relative error in node position changes. The iteration stops if the error is below this threshold.\n",
    "\n",
    "- weight (string) or None optional (default=’weight’)\n",
    "    - The edge attribute that holds the numerical value used for the edge weight. Larger means a stronger attractive force. If None, then all edge weights are 1.\n",
    "\n",
    "- scale (number) or None (default: 1)\n",
    "    - Scale factor for positions. Not used unless fixed is None. If scale is None, no rescaling is performed.\n",
    "\n",
    "- center (array-like) or None\n",
    "    - Coordinate pair around which to center the layout. Not used unless fixed is None.\n",
    "\n",
    "- dim (int)\n",
    "    - Dimension of layout.\n",
    "\n",
    "- seed (int), RandomState instance or None optional (default=None)\n",
    "    - Set the random state for deterministic node layouts. If int, seed is the seed used by the random number generator, if numpy.random.RandomState instance, seed is the random number generator, if None, the random number generator is the RandomState instance used by numpy.random."
   ]
  },
  {
   "cell_type": "markdown",
   "id": "f75a381e",
   "metadata": {},
   "source": [
    "Returns:\n",
    "- pos: (dict)\n",
    "    - A dictionary of positions keyed by node"
   ]
  },
  {
   "cell_type": "markdown",
   "id": "c9047f25",
   "metadata": {},
   "source": [
    "#### Execute the cell below to create a random graph"
   ]
  },
  {
   "cell_type": "code",
   "execution_count": 3,
   "id": "84c6d0f9",
   "metadata": {},
   "outputs": [
    {
     "data": {
      "image/png": "[encoded data removed]",
      "text/plain": [
       "<Figure size 216x216 with 1 Axes>"
      ]
     },
     "metadata": {},
     "output_type": "display_data"
    }
   ],
   "source": [
    "seed = 1\n",
    "prob = 0.4\n",
    "num_nodes = 6\n",
    "gd = nx.fast_gnp_random_graph(num_nodes, prob, seed=seed, directed=False)\n",
    "pos_d = nx.spring_layout(gd, seed=seed)\n",
    "plt.figure(figsize=(3,3))\n",
    "nx.draw(gd, with_labels=True, pos=pos_d,)"
   ]
  },
  {
   "cell_type": "markdown",
   "id": "41817e10",
   "metadata": {},
   "source": [
    "#### Task 1.1 Execute the cell above to create the random graph again. Will the graph change? \n",
    "- Run the previous code again. Will the graph change?\n",
    "- Remove ``seed`` from the function ``fast_gnp_random_graph`` and run the code cell for several times. What happened and please explain the reasons.\n",
    "- Remove the ``pos_d`` from the function ``draw``. What happened and please explain the reasons."
   ]
  },
  {
   "cell_type": "markdown",
   "id": "2d59be74",
   "metadata": {},
   "source": [
    "<font color='red'>Edit this cell to explain your answer. </font>\n"
   ]
  },
  {
   "cell_type": "markdown",
   "id": "be9d0e4b",
   "metadata": {},
   "source": [
    "#### Task 1.2 Copy the code from above and modify the value of num_nodes and rerun the code."
   ]
  },
  {
   "cell_type": "code",
   "execution_count": 12,
   "id": "8f547dab",
   "metadata": {},
   "outputs": [
    {
     "data": {
      "image/png": "[encoded data removed]",
      "text/plain": [
       "<Figure size 216x216 with 1 Axes>"
      ]
     },
     "metadata": {},
     "output_type": "display_data"
    }
   ],
   "source": [
    "# place your code here\n",
    "seed = 1\n",
    "prob = 0.4\n",
    "num_nodes = 10\n",
    "gd = nx.fast_gnp_random_graph(num_nodes, prob, seed=seed, directed=False)\n",
    "pos_d = nx.spring_layout(gd, seed=seed)\n",
    "plt.figure(figsize=(3,3))\n",
    "nx.draw(gd, with_labels=True, pos=pos_d,)"
   ]
  },
  {
   "cell_type": "markdown",
   "id": "c819928d",
   "metadata": {},
   "source": [
    "#### Task 1.3 Copy the code from above and modify the value of prob and rerun the code."
   ]
  },
  {
   "cell_type": "code",
   "execution_count": 14,
   "id": "c78db76a",
   "metadata": {},
   "outputs": [
    {
     "data": {
      "image/png": "[encoded data removed]",
      "text/plain": [
       "<Figure size 216x216 with 1 Axes>"
      ]
     },
     "metadata": {},
     "output_type": "display_data"
    }
   ],
   "source": [
    "# place your code here\n",
    "seed = 1\n",
    "prob = 0.6\n",
    "num_nodes = 6\n",
    "gd = nx.fast_gnp_random_graph(num_nodes, prob, seed=seed, directed=False)\n",
    "pos_d = nx.spring_layout(gd, seed=seed)\n",
    "plt.figure(figsize=(3,3))\n",
    "nx.draw(gd, with_labels=True, pos=pos_d,)"
   ]
  },
  {
   "cell_type": "markdown",
   "id": "9f56a80c",
   "metadata": {},
   "source": [
    "#### Task 1.4 Given the following adjacent matrix, construct the graph gc and plot it\n",
    "Please refer to the documentation for the functions in networkx:    \n",
    "https://networkx.org/documentation/stable/reference/\n",
    "\n",
    "matrix(  \n",
    "[[0, 1, 0, 0, 0, 1],  \n",
    "        [1, 0, 0, 1, 1, 0],  \n",
    "        [0, 0, 0, 0, 1, 1],  \n",
    "        [0, 1, 0, 0, 0, 0],  \n",
    "        [0, 1, 1, 0, 0, 0],  \n",
    "        [1, 0, 1, 0, 0, 0]])"
   ]
  },
  {
   "cell_type": "code",
   "execution_count": 17,
   "id": "fc5cf77d",
   "metadata": {
    "scrolled": true
   },
   "outputs": [
    {
     "data": {
      "image/png": "[encoded data removed]",
      "text/plain": [
       "<Figure size 216x216 with 1 Axes>"
      ]
     },
     "metadata": {},
     "output_type": "display_data"
    }
   ],
   "source": [
    "# place your code here\n",
    "matrix =[[0, 1, 0, 0, 0, 1],\n",
    "        [1, 0, 0, 1, 1, 0],\n",
    "        [0, 0, 0, 0, 1, 1],\n",
    "        [0, 1, 0, 0, 0, 0],\n",
    "        [0, 1, 1, 0, 0, 0],\n",
    "        [1, 0, 1, 0, 0, 0]]\n",
    "G = nx.from_numpy_array(np.array(matrix))\n",
    "pos = nx.spring_layout(G, seed=seed)\n",
    "plt.figure(figsize=(3,3))\n",
    "nx.draw(G, with_labels=True, pos=pos,)\n"
   ]
  },
  {
   "cell_type": "markdown",
   "id": "2a7b525a",
   "metadata": {},
   "source": [
    "### Part 2 - Network Measure"
   ]
  },
  {
   "cell_type": "code",
   "execution_count": 18,
   "id": "e2a6914f",
   "metadata": {},
   "outputs": [
    {
     "data": {
      "image/png": "[encoded data removed]",
      "text/plain": [
       "<Figure size 216x216 with 1 Axes>"
      ]
     },
     "metadata": {},
     "output_type": "display_data"
    }
   ],
   "source": [
    "seed = 10\n",
    "prob = 0.5\n",
    "num_nodes = 8\n",
    "g = nx.fast_gnp_random_graph(num_nodes, prob, seed=seed, directed=False)\n",
    "pos_ = nx.spring_layout(g, seed=1)\n",
    "plt.figure(figsize=(3,3))\n",
    "nx.draw(g, with_labels=True, pos=pos_,)"
   ]
  },
  {
   "cell_type": "markdown",
   "id": "ba99e9ca",
   "metadata": {},
   "source": [
    "#### Run the cell above to draw the graph\n"
   ]
  },
  {
   "cell_type": "markdown",
   "id": "5224ecae",
   "metadata": {},
   "source": [
    "#### Task 2.1 Calculate the density of the graph using ``density()``"
   ]
  },
  {
   "cell_type": "code",
   "execution_count": null,
   "id": "ed1634cb",
   "metadata": {},
   "outputs": [],
   "source": []
  },
  {
   "cell_type": "code",
   "execution_count": 20,
   "id": "01b4a91d",
   "metadata": {},
   "outputs": [
    {
     "name": "stdout",
     "output_type": "stream",
     "text": [
      "0.42857142857142855\n",
      "0.4\n"
     ]
    }
   ],
   "source": [
    "# place your code here\n",
    "density = nx.density(g)\n",
    "print(density)\n",
    "\n",
    "density = nx.density(G)\n",
    "print(density)"
   ]
  },
  {
   "cell_type": "markdown",
   "id": "ae773997",
   "metadata": {},
   "source": [
    "#### Task 2.2 Get the degrees of a graph using ``degree()``"
   ]
  },
  {
   "cell_type": "code",
   "execution_count": 21,
   "id": "cf1fbb05",
   "metadata": {
    "scrolled": false
   },
   "outputs": [
    {
     "name": "stdout",
     "output_type": "stream",
     "text": [
      "[(0, 1), (1, 4), (2, 6), (3, 4), (4, 2), (5, 3), (6, 3), (7, 1)]\n",
      "[(0, 2), (1, 3), (2, 2), (3, 1), (4, 2), (5, 2)]\n"
     ]
    }
   ],
   "source": [
    "# place your code here\n",
    "degree = nx.degree(g)\n",
    "print(degree)\n",
    "degree = nx.degree(G)\n",
    "print(degree)"
   ]
  },
  {
   "cell_type": "markdown",
   "id": "0bf688e3",
   "metadata": {},
   "source": [
    "#### Task 2.3 Write a function to calculate the average degree k of a graph"
   ]
  },
  {
   "cell_type": "code",
   "execution_count": 22,
   "id": "de412768",
   "metadata": {},
   "outputs": [
    {
     "data": {
      "text/plain": [
       "3.0"
      ]
     },
     "execution_count": 22,
     "metadata": {},
     "output_type": "execute_result"
    }
   ],
   "source": [
    "# place your code here\n",
    "def avg_degree(g):\n",
    "    return np.mean([d for n, d in g.degree()])\n",
    "avg_degree(g)"
   ]
  },
  {
   "cell_type": "markdown",
   "id": "87605869",
   "metadata": {},
   "source": [
    "#### Task 2.4 Write a function to calculate the density of a graph"
   ]
  },
  {
   "cell_type": "code",
   "execution_count": null,
   "id": "322a8a37",
   "metadata": {
    "scrolled": true
   },
   "outputs": [],
   "source": [
    "# place your code here\n",
    "def get_density(g):\n",
    "    return nx.density(g)"
   ]
  },
  {
   "cell_type": "markdown",
   "id": "76ef5dcb",
   "metadata": {},
   "source": [
    "#### Task 2.5 Mannually calculate the diameter of the graph and verify your answer with ``nx.diameter()``\n",
    "**You need to explain your answer.**"
   ]
  },
  {
   "cell_type": "markdown",
   "id": "a175cfc4",
   "metadata": {},
   "source": [
    "<font color='red'>\n",
    "    the diameter of g: 3 (the maximum short path is 0245, 7213, 7263 ...)\n",
    "    <br>\n",
    "    the diameter of G: 3 (the maximum short path is 3142)\n",
    "</font>\n"
   ]
  },
  {
   "cell_type": "code",
   "execution_count": 23,
   "id": "840e6e8a",
   "metadata": {},
   "outputs": [
    {
     "name": "stdout",
     "output_type": "stream",
     "text": [
      "3\n",
      "3\n"
     ]
    }
   ],
   "source": [
    "diameter = nx.diameter(g)\n",
    "print(diameter)\n",
    "diameter = nx.diameter(G)\n",
    "print(diameter)"
   ]
  },
  {
   "cell_type": "markdown",
   "id": "8b6aecb2",
   "metadata": {},
   "source": [
    "#### Task 2.6 Generate random graph with 1000 nodes. Repeat the process several times and try to find out the relationship between density and the probability?"
   ]
  },
  {
   "cell_type": "code",
   "execution_count": 24,
   "id": "d1310920",
   "metadata": {
    "scrolled": false
   },
   "outputs": [
    {
     "data": {
      "image/png": "[encoded data removed]",
      "text/plain": [
       "<Figure size 432x288 with 1 Axes>"
      ]
     },
     "metadata": {
      "needs_background": "light"
     },
     "output_type": "display_data"
    }
   ],
   "source": [
    "# place your code here\n",
    "seed = 1\n",
    "num_nodes = 1000\n",
    "prob = [0.1, 0.2, 0.3, 0.4, 0.5, 0.6, 0.7, 0.8, 0.9]\n",
    "density = []\n",
    "for i in prob:\n",
    "    g = nx.fast_gnp_random_graph(num_nodes, i, seed=seed, directed=False)\n",
    "    density.append(nx.density(g))\n",
    "plt.plot(prob, density)\n",
    "plt.xlabel('Probability')\n",
    "plt.ylabel('Density')\n",
    "plt.title('Density vs Probability')\n",
    "plt.show()"
   ]
  },
  {
   "cell_type": "markdown",
   "id": "90de0418",
   "metadata": {},
   "source": [
    "<font color='red'>The graph show that there are in positive correlation (seems directly proportional: perfect positive straight-line correlation). For my personal point of view. When the probability is increasing, then the willing of the node linking together will be also increased. So according to the equation of density:\n",
    "<br>\n",
    "<br>\n",
    "$d = \\dfrac{m}{(n)(n-1)}$\n",
    "<br>\n",
    "where m: the number of edges\n",
    "<br>\n",
    "where n: the number of nodes\n",
    "<br>\n",
    "<br>\n",
    " when the number of edges increased but the number of nodes keep unchange.</font>\n"
   ]
  }
 ],
 "metadata": {
  "kernelspec": {
   "display_name": "base",
   "language": "python",
   "name": "python3"
  },
  "language_info": {
   "codemirror_mode": {
    "name": "ipython",
    "version": 3
   },
   "file_extension": ".py",
   "mimetype": "text/x-python",
   "name": "python",
   "nbconvert_exporter": "python",
   "pygments_lexer": "ipython3",
   "version": "3.8.8"
  }
 },
 "nbformat": 4,
 "nbformat_minor": 5
}
